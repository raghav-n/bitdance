{
 "cells": [
  {
   "cell_type": "markdown",
   "metadata": {},
   "source": [
    "# Restaurant Reviews Dataset - Exploratory Data Analysis\n",
    "\n",
    "This notebook performs comprehensive EDA on the Google Maps restaurant reviews dataset to understand:\n",
    "- Dataset structure and quality\n",
    "- Review patterns and distributions\n",
    "- Text characteristics\n",
    "- Rating patterns\n",
    "- Image availability\n",
    "- Potential data quality issues for the BitDance pipeline\n"
   ]
  },
  {
   "cell_type": "code",
   "execution_count": 1,
   "metadata": {},
   "outputs": [
    {
     "name": "stdout",
     "output_type": "stream",
     "text": [
      "Libraries imported successfully!\n"
     ]
    }
   ],
   "source": [
    "# Import required libraries\n",
    "import pandas as pd\n",
    "import numpy as np\n",
    "import matplotlib.pyplot as plt\n",
    "import seaborn as sns\n",
    "from collections import Counter\n",
    "import re\n",
    "import warnings\n",
    "\n",
    "warnings.filterwarnings(\"ignore\")\n",
    "\n",
    "# Set style\n",
    "plt.style.use(\"default\")\n",
    "sns.set_palette(\"husl\")\n",
    "plt.rcParams[\"figure.figsize\"] = (12, 8)\n",
    "\n",
    "print(\"Libraries imported successfully!\")"
   ]
  },
  {
   "cell_type": "code",
   "execution_count": 2,
   "metadata": {},
   "outputs": [
    {
     "name": "stdout",
     "output_type": "stream",
     "text": [
      "Dataset loaded successfully!\n",
      "Shape: (1100, 6)\n",
      "Columns: ['business_name', 'author_name', 'text', 'photo', 'rating', 'rating_category']\n"
     ]
    }
   ],
   "source": [
    "# Load the dataset\n",
    "df = pd.read_csv(\"./data/reviews.csv\")\n",
    "\n",
    "print(f\"Dataset loaded successfully!\")\n",
    "print(f\"Shape: {df.shape}\")\n",
    "print(f\"Columns: {list(df.columns)}\")"
   ]
  },
  {
   "cell_type": "code",
   "execution_count": 3,
   "metadata": {},
   "outputs": [
    {
     "name": "stdout",
     "output_type": "stream",
     "text": [
      "reviews.csv\n"
     ]
    }
   ],
   "source": [
    "%ls data"
   ]
  },
  {
   "cell_type": "markdown",
   "metadata": {},
   "source": [
    "## 1. Dataset Overview\n"
   ]
  },
  {
   "cell_type": "code",
   "execution_count": 4,
   "metadata": {},
   "outputs": [
    {
     "name": "stdout",
     "output_type": "stream",
     "text": [
      "=== DATASET OVERVIEW ===\n",
      "Total records: 1,100\n",
      "Total columns: 6\n",
      "Memory usage: 0.52 MB\n",
      "\n",
      "=== COLUMN INFO ===\n",
      "<class 'pandas.core.frame.DataFrame'>\n",
      "RangeIndex: 1100 entries, 0 to 1099\n",
      "Data columns (total 6 columns):\n",
      " #   Column           Non-Null Count  Dtype \n",
      "---  ------           --------------  ----- \n",
      " 0   business_name    1100 non-null   object\n",
      " 1   author_name      1100 non-null   object\n",
      " 2   text             1100 non-null   object\n",
      " 3   photo            1100 non-null   object\n",
      " 4   rating           1100 non-null   int64 \n",
      " 5   rating_category  1100 non-null   object\n",
      "dtypes: int64(1), object(5)\n",
      "memory usage: 51.7+ KB\n",
      "\n",
      "=== SAMPLE DATA ===\n"
     ]
    },
    {
     "data": {
      "text/html": [
       "<div>\n",
       "<style scoped>\n",
       "    .dataframe tbody tr th:only-of-type {\n",
       "        vertical-align: middle;\n",
       "    }\n",
       "\n",
       "    .dataframe tbody tr th {\n",
       "        vertical-align: top;\n",
       "    }\n",
       "\n",
       "    .dataframe thead th {\n",
       "        text-align: right;\n",
       "    }\n",
       "</style>\n",
       "<table border=\"1\" class=\"dataframe\">\n",
       "  <thead>\n",
       "    <tr style=\"text-align: right;\">\n",
       "      <th></th>\n",
       "      <th>business_name</th>\n",
       "      <th>author_name</th>\n",
       "      <th>text</th>\n",
       "      <th>photo</th>\n",
       "      <th>rating</th>\n",
       "      <th>rating_category</th>\n",
       "    </tr>\n",
       "  </thead>\n",
       "  <tbody>\n",
       "    <tr>\n",
       "      <th>0</th>\n",
       "      <td>Haci'nin Yeri - Yigit Lokantasi</td>\n",
       "      <td>Gulsum Akar</td>\n",
       "      <td>We went to Marmaris with my wife for a holiday...</td>\n",
       "      <td>dataset/taste/hacinin_yeri_gulsum_akar.png</td>\n",
       "      <td>5</td>\n",
       "      <td>taste</td>\n",
       "    </tr>\n",
       "    <tr>\n",
       "      <th>1</th>\n",
       "      <td>Haci'nin Yeri - Yigit Lokantasi</td>\n",
       "      <td>Oguzhan Cetin</td>\n",
       "      <td>During my holiday in Marmaris we ate here to f...</td>\n",
       "      <td>dataset/menu/hacinin_yeri_oguzhan_cetin.png</td>\n",
       "      <td>4</td>\n",
       "      <td>menu</td>\n",
       "    </tr>\n",
       "    <tr>\n",
       "      <th>2</th>\n",
       "      <td>Haci'nin Yeri - Yigit Lokantasi</td>\n",
       "      <td>Yasin Kuyu</td>\n",
       "      <td>Prices are very affordable. The menu in the ph...</td>\n",
       "      <td>dataset/outdoor_atmosphere/hacinin_yeri_yasin_...</td>\n",
       "      <td>3</td>\n",
       "      <td>outdoor_atmosphere</td>\n",
       "    </tr>\n",
       "    <tr>\n",
       "      <th>3</th>\n",
       "      <td>Haci'nin Yeri - Yigit Lokantasi</td>\n",
       "      <td>Orhan Kapu</td>\n",
       "      <td>Turkey's cheapest artisan restaurant and its f...</td>\n",
       "      <td>dataset/indoor_atmosphere/hacinin_yeri_orhan_k...</td>\n",
       "      <td>5</td>\n",
       "      <td>indoor_atmosphere</td>\n",
       "    </tr>\n",
       "    <tr>\n",
       "      <th>4</th>\n",
       "      <td>Haci'nin Yeri - Yigit Lokantasi</td>\n",
       "      <td>Ozgur Sati</td>\n",
       "      <td>I don't know what you will look for in terms o...</td>\n",
       "      <td>dataset/menu/hacinin_yeri_ozgur_sati.png</td>\n",
       "      <td>3</td>\n",
       "      <td>menu</td>\n",
       "    </tr>\n",
       "  </tbody>\n",
       "</table>\n",
       "</div>"
      ],
      "text/plain": [
       "                     business_name    author_name  \\\n",
       "0  Haci'nin Yeri - Yigit Lokantasi    Gulsum Akar   \n",
       "1  Haci'nin Yeri - Yigit Lokantasi  Oguzhan Cetin   \n",
       "2  Haci'nin Yeri - Yigit Lokantasi     Yasin Kuyu   \n",
       "3  Haci'nin Yeri - Yigit Lokantasi     Orhan Kapu   \n",
       "4  Haci'nin Yeri - Yigit Lokantasi     Ozgur Sati   \n",
       "\n",
       "                                                text  \\\n",
       "0  We went to Marmaris with my wife for a holiday...   \n",
       "1  During my holiday in Marmaris we ate here to f...   \n",
       "2  Prices are very affordable. The menu in the ph...   \n",
       "3  Turkey's cheapest artisan restaurant and its f...   \n",
       "4  I don't know what you will look for in terms o...   \n",
       "\n",
       "                                               photo  rating  \\\n",
       "0         dataset/taste/hacinin_yeri_gulsum_akar.png       5   \n",
       "1        dataset/menu/hacinin_yeri_oguzhan_cetin.png       4   \n",
       "2  dataset/outdoor_atmosphere/hacinin_yeri_yasin_...       3   \n",
       "3  dataset/indoor_atmosphere/hacinin_yeri_orhan_k...       5   \n",
       "4           dataset/menu/hacinin_yeri_ozgur_sati.png       3   \n",
       "\n",
       "      rating_category  \n",
       "0               taste  \n",
       "1                menu  \n",
       "2  outdoor_atmosphere  \n",
       "3   indoor_atmosphere  \n",
       "4                menu  "
      ]
     },
     "metadata": {},
     "output_type": "display_data"
    },
    {
     "name": "stdout",
     "output_type": "stream",
     "text": [
      "\n",
      "=== BASIC STATISTICS ===\n"
     ]
    },
    {
     "data": {
      "text/html": [
       "<div>\n",
       "<style scoped>\n",
       "    .dataframe tbody tr th:only-of-type {\n",
       "        vertical-align: middle;\n",
       "    }\n",
       "\n",
       "    .dataframe tbody tr th {\n",
       "        vertical-align: top;\n",
       "    }\n",
       "\n",
       "    .dataframe thead th {\n",
       "        text-align: right;\n",
       "    }\n",
       "</style>\n",
       "<table border=\"1\" class=\"dataframe\">\n",
       "  <thead>\n",
       "    <tr style=\"text-align: right;\">\n",
       "      <th></th>\n",
       "      <th>rating</th>\n",
       "    </tr>\n",
       "  </thead>\n",
       "  <tbody>\n",
       "    <tr>\n",
       "      <th>count</th>\n",
       "      <td>1100.000000</td>\n",
       "    </tr>\n",
       "    <tr>\n",
       "      <th>mean</th>\n",
       "      <td>3.912727</td>\n",
       "    </tr>\n",
       "    <tr>\n",
       "      <th>std</th>\n",
       "      <td>1.218459</td>\n",
       "    </tr>\n",
       "    <tr>\n",
       "      <th>min</th>\n",
       "      <td>1.000000</td>\n",
       "    </tr>\n",
       "    <tr>\n",
       "      <th>25%</th>\n",
       "      <td>3.000000</td>\n",
       "    </tr>\n",
       "    <tr>\n",
       "      <th>50%</th>\n",
       "      <td>4.000000</td>\n",
       "    </tr>\n",
       "    <tr>\n",
       "      <th>75%</th>\n",
       "      <td>5.000000</td>\n",
       "    </tr>\n",
       "    <tr>\n",
       "      <th>max</th>\n",
       "      <td>5.000000</td>\n",
       "    </tr>\n",
       "  </tbody>\n",
       "</table>\n",
       "</div>"
      ],
      "text/plain": [
       "            rating\n",
       "count  1100.000000\n",
       "mean      3.912727\n",
       "std       1.218459\n",
       "min       1.000000\n",
       "25%       3.000000\n",
       "50%       4.000000\n",
       "75%       5.000000\n",
       "max       5.000000"
      ]
     },
     "metadata": {},
     "output_type": "display_data"
    }
   ],
   "source": [
    "# Basic dataset information\n",
    "print(\"=== DATASET OVERVIEW ===\")\n",
    "print(f\"Total records: {len(df):,}\")\n",
    "print(f\"Total columns: {len(df.columns)}\")\n",
    "print(f\"Memory usage: {df.memory_usage(deep=True).sum() / 1024**2:.2f} MB\")\n",
    "\n",
    "print(\"\\n=== COLUMN INFO ===\")\n",
    "df.info()\n",
    "\n",
    "print(\"\\n=== SAMPLE DATA ===\")\n",
    "display(df.head())\n",
    "\n",
    "print(\"\\n=== BASIC STATISTICS ===\")\n",
    "display(df.describe())"
   ]
  },
  {
   "cell_type": "code",
   "execution_count": 5,
   "metadata": {},
   "outputs": [
    {
     "name": "stdout",
     "output_type": "stream",
     "text": [
      "=== MISSING VALUES ===\n",
      "Empty DataFrame\n",
      "Columns: [Missing Count, Missing Percentage]\n",
      "Index: []\n",
      "No missing values found!\n"
     ]
    }
   ],
   "source": [
    "# Missing values analysis\n",
    "print(\"=== MISSING VALUES ===\")\n",
    "missing_stats = pd.DataFrame(\n",
    "    {\n",
    "        \"Missing Count\": df.isnull().sum(),\n",
    "        \"Missing Percentage\": (df.isnull().sum() / len(df)) * 100,\n",
    "    }\n",
    ")\n",
    "missing_stats = missing_stats[missing_stats[\"Missing Count\"] > 0].sort_values(\n",
    "    \"Missing Percentage\", ascending=False\n",
    ")\n",
    "print(missing_stats)\n",
    "\n",
    "# Visualize missing values\n",
    "if len(missing_stats) > 0:\n",
    "    plt.figure(figsize=(10, 6))\n",
    "    missing_stats[\"Missing Percentage\"].plot(kind=\"bar\")\n",
    "    plt.title(\"Missing Values by Column\")\n",
    "    plt.ylabel(\"Missing Percentage (%)\")\n",
    "    plt.xticks(rotation=45)\n",
    "    plt.tight_layout()\n",
    "    plt.show()\n",
    "else:\n",
    "    print(\"No missing values found!\")"
   ]
  },
  {
   "cell_type": "markdown",
   "metadata": {},
   "source": [
    "## 2. Rating Analysis\n"
   ]
  },
  {
   "cell_type": "code",
   "execution_count": 6,
   "metadata": {},
   "outputs": [
    {
     "name": "stdout",
     "output_type": "stream",
     "text": [
      "=== RATING ANALYSIS ===\n",
      "Rating distribution:\n",
      "rating\n",
      "1     80\n",
      "2     72\n",
      "3    172\n",
      "4    316\n",
      "5    460\n",
      "Name: count, dtype: int64\n",
      "\n",
      "Average rating: 3.91\n",
      "Median rating: 4.00\n",
      "Standard deviation: 1.22\n"
     ]
    },
    {
     "data": {
      "image/png": "[encoded data removed]",
      "text/plain": [
       "<Figure size 1200x600 with 2 Axes>"
      ]
     },
     "metadata": {},
     "output_type": "display_data"
    }
   ],
   "source": [
    "# Rating distribution\n",
    "print(\"=== RATING ANALYSIS ===\")\n",
    "rating_counts = df[\"rating\"].value_counts().sort_index()\n",
    "print(\"Rating distribution:\")\n",
    "print(rating_counts)\n",
    "print(f\"\\nAverage rating: {df['rating'].mean():.2f}\")\n",
    "print(f\"Median rating: {df['rating'].median():.2f}\")\n",
    "print(f\"Standard deviation: {df['rating'].std():.2f}\")\n",
    "\n",
    "# Visualize rating distribution\n",
    "plt.figure(figsize=(12, 6))\n",
    "\n",
    "plt.subplot(1, 2, 1)\n",
    "rating_counts.plot(kind=\"bar\", color=\"skyblue\")\n",
    "plt.title(\"Rating Distribution\")\n",
    "plt.xlabel(\"Rating\")\n",
    "plt.ylabel(\"Number of Reviews\")\n",
    "\n",
    "plt.subplot(1, 2, 2)\n",
    "plt.pie(rating_counts.values, labels=rating_counts.index, autopct=\"%1.1f%%\")\n",
    "plt.title(\"Rating Distribution (Pie Chart)\")\n",
    "\n",
    "plt.tight_layout()\n",
    "plt.show()"
   ]
  },
  {
   "cell_type": "markdown",
   "metadata": {},
   "source": [
    "## 3. Text Analysis\n"
   ]
  },
  {
   "cell_type": "code",
   "execution_count": 7,
   "metadata": {},
   "outputs": [
    {
     "name": "stdout",
     "output_type": "stream",
     "text": [
      "=== TEXT ANALYSIS ===\n",
      "Average text length: 110.84 characters\n",
      "Median text length: 104.00 characters\n",
      "Average word count: 20.05 words\n",
      "Median word count: 19.00 words\n"
     ]
    },
    {
     "data": {
      "image/png": "[encoded data removed]",
      "text/plain": [
       "<Figure size 1500x500 with 3 Axes>"
      ]
     },
     "metadata": {},
     "output_type": "display_data"
    }
   ],
   "source": [
    "# Text length analysis\n",
    "print(\"=== TEXT ANALYSIS ===\")\n",
    "df[\"text_length\"] = df[\"text\"].str.len()\n",
    "df[\"word_count\"] = df[\"text\"].str.split().str.len()\n",
    "\n",
    "print(f\"Average text length: {df['text_length'].mean():.2f} characters\")\n",
    "print(f\"Median text length: {df['text_length'].median():.2f} characters\")\n",
    "print(f\"Average word count: {df['word_count'].mean():.2f} words\")\n",
    "print(f\"Median word count: {df['word_count'].median():.2f} words\")\n",
    "\n",
    "# Text length distribution\n",
    "plt.figure(figsize=(15, 5))\n",
    "\n",
    "plt.subplot(1, 3, 1)\n",
    "plt.hist(df[\"text_length\"], bins=50, alpha=0.7, color=\"skyblue\")\n",
    "plt.title(\"Distribution of Text Length (Characters)\")\n",
    "plt.xlabel(\"Characters\")\n",
    "plt.ylabel(\"Frequency\")\n",
    "\n",
    "plt.subplot(1, 3, 2)\n",
    "plt.hist(df[\"word_count\"], bins=50, alpha=0.7, color=\"lightgreen\")\n",
    "plt.title(\"Distribution of Word Count\")\n",
    "plt.xlabel(\"Words\")\n",
    "plt.ylabel(\"Frequency\")\n",
    "\n",
    "plt.subplot(1, 3, 3)\n",
    "df.boxplot(column=\"text_length\", by=\"rating\", ax=plt.gca())\n",
    "plt.title(\"Text Length by Rating\")\n",
    "plt.suptitle(\"\")\n",
    "plt.ylabel(\"Characters\")\n",
    "\n",
    "plt.tight_layout()\n",
    "plt.show()"
   ]
  },
  {
   "cell_type": "markdown",
   "metadata": {},
   "source": [
    "## 4. Data Quality Assessment for BitDance Pipeline\n"
   ]
  },
  {
   "cell_type": "code",
   "execution_count": 8,
   "metadata": {},
   "outputs": [
    {
     "name": "stdout",
     "output_type": "stream",
     "text": [
      "=== DATA QUALITY ASSESSMENT FOR BITDANCE PIPELINE ===\n",
      "\n",
      "1. SCHEMA COMPATIBILITY:\n",
      "✅ All required columns present\n",
      "✅ Optional 'photo' column: Present\n",
      "✅ Bonus 'rating_category' column: Present\n",
      "\n",
      "2. DATA QUALITY ISSUES:\n",
      "⚠️  Very short reviews (≤10 chars): 23 (2.1%)\n",
      "\n",
      "3. DATASET STATISTICS:\n",
      "📊 Total reviews: 1,100\n",
      "📊 Unique businesses: 100\n",
      "📊 Unique reviewers: 1,074\n",
      "📊 Average review length: 111 characters\n",
      "📊 Average rating: 3.91/5.0\n",
      "📊 Reviews with images: 100.0%\n",
      "\n",
      "4. RECOMMENDATIONS:\n",
      "✅ Dataset is compatible with BitDance pipeline\n",
      "✅ Current location: data/reviews.csv\n",
      "✅ Required: Move to data/archive/reviews.csv for pipeline\n",
      "✅ Update configs/base.yaml path if needed\n",
      "⚠️  Consider filtering very short reviews\n",
      "✅ Ready to run the ingestion task!\n"
     ]
    }
   ],
   "source": [
    "print(\"=== DATA QUALITY ASSESSMENT FOR BITDANCE PIPELINE ===\")\n",
    "\n",
    "# Required columns check\n",
    "required_cols = [\"business_name\", \"author_name\", \"text\", \"rating\"]\n",
    "missing_required = [col for col in required_cols if col not in df.columns]\n",
    "\n",
    "print(\"\\n1. SCHEMA COMPATIBILITY:\")\n",
    "if missing_required:\n",
    "    print(f\"❌ Missing required columns: {missing_required}\")\n",
    "else:\n",
    "    print(\"✅ All required columns present\")\n",
    "\n",
    "print(\n",
    "    f\"✅ Optional 'photo' column: {'Present' if 'photo' in df.columns else 'Missing'}\"\n",
    ")\n",
    "print(\n",
    "    f\"✅ Bonus 'rating_category' column: {'Present' if 'rating_category' in df.columns else 'Missing'}\"\n",
    ")\n",
    "\n",
    "print(\"\\n2. DATA QUALITY ISSUES:\")\n",
    "issues = []\n",
    "\n",
    "# Check for missing values in required columns\n",
    "for col in required_cols:\n",
    "    if col in df.columns:\n",
    "        missing_count = df[col].isnull().sum()\n",
    "        if missing_count > 0:\n",
    "            issues.append(\n",
    "                f\"Missing values in {col}: {missing_count} ({missing_count / len(df) * 100:.1f}%)\"\n",
    "            )\n",
    "\n",
    "# Check for very short text\n",
    "short_text_count = (df[\"text\"].str.len() <= 10).sum()\n",
    "if short_text_count > 0:\n",
    "    issues.append(\n",
    "        f\"Very short reviews (≤10 chars): {short_text_count} ({short_text_count / len(df) * 100:.1f}%)\"\n",
    "    )\n",
    "\n",
    "# Check rating range\n",
    "invalid_ratings = df[(df[\"rating\"] < 1) | (df[\"rating\"] > 5)]\n",
    "if len(invalid_ratings) > 0:\n",
    "    issues.append(f\"Invalid ratings (not 1-5): {len(invalid_ratings)}\")\n",
    "\n",
    "# Check for duplicates\n",
    "duplicates = df.duplicated([\"business_name\", \"author_name\", \"text\"]).sum()\n",
    "if duplicates > 0:\n",
    "    issues.append(\n",
    "        f\"Potential duplicate reviews: {duplicates} ({duplicates / len(df) * 100:.1f}%)\"\n",
    "    )\n",
    "\n",
    "if issues:\n",
    "    for issue in issues:\n",
    "        print(f\"⚠️  {issue}\")\n",
    "else:\n",
    "    print(\"✅ No major data quality issues found\")\n",
    "\n",
    "print(\"\\n3. DATASET STATISTICS:\")\n",
    "print(f\"📊 Total reviews: {len(df):,}\")\n",
    "print(f\"📊 Unique businesses: {df['business_name'].nunique():,}\")\n",
    "print(f\"📊 Unique reviewers: {df['author_name'].nunique():,}\")\n",
    "print(f\"📊 Average review length: {df['text'].str.len().mean():.0f} characters\")\n",
    "print(f\"📊 Average rating: {df['rating'].mean():.2f}/5.0\")\n",
    "\n",
    "# Image statistics\n",
    "has_photo = df[\"photo\"].notna() & (df[\"photo\"] != \"\")\n",
    "photo_percentage = has_photo.sum() / len(df) * 100\n",
    "print(f\"📊 Reviews with images: {photo_percentage:.1f}%\")\n",
    "\n",
    "print(\"\\n4. RECOMMENDATIONS:\")\n",
    "print(\"✅ Dataset is compatible with BitDance pipeline\")\n",
    "print(\"✅ Current location: data/reviews.csv\")\n",
    "print(\"✅ Required: Move to data/archive/reviews.csv for pipeline\")\n",
    "print(\"✅ Update configs/base.yaml path if needed\")\n",
    "if duplicates > 0:\n",
    "    print(\"⚠️  Consider deduplication during ingestion\")\n",
    "if short_text_count > 0:\n",
    "    print(\"⚠️  Consider filtering very short reviews\")\n",
    "print(\"✅ Ready to run the ingestion task!\")"
   ]
  }
 ],
 "metadata": {
  "kernelspec": {
   "display_name": "Python 3 (ipykernel)",
   "language": "python",
   "name": "python3"
  },
  "language_info": {
   "codemirror_mode": {
    "name": "ipython",
    "version": 3
   },
   "file_extension": ".py",
   "mimetype": "text/x-python",
   "name": "python",
   "nbconvert_exporter": "python",
   "pygments_lexer": "ipython3",
   "version": "3.9.6"
  }
 },
 "nbformat": 4,
 "nbformat_minor": 4
}
